{
 "cells": [
  {
   "cell_type": "markdown",
   "metadata": {
    "colab_type": "text",
    "id": "view-in-github"
   },
   "source": [
    "<a href=\"https://colab.research.google.com/github/ldabas/QuantumResearch/blob/master/Running_Average_Models.ipynb\" target=\"_parent\"><img src=\"https://colab.research.google.com/assets/colab-badge.svg\" alt=\"Open In Colab\"/></a>"
   ]
  },
  {
   "cell_type": "code",
   "execution_count": null,
   "metadata": {
    "colab": {
     "base_uri": "https://localhost:8080/"
    },
    "id": "sdFUvn6yrf7I",
    "outputId": "a06227e6-345c-45c6-a2ad-765ce521877d"
   },
   "outputs": [
    {
     "name": "stdout",
     "output_type": "stream",
     "text": [
      "Mounted at /content/drive\n"
     ]
    }
   ],
   "source": [
    "from google.colab import drive\n",
    "drive.mount('/content/drive')\n",
    "\n",
    "#! pip install --upgrade Cython\n",
    "#! pip install --upgrade git+https://github.com/statsmodels/statsmodels\n",
    "#import statsmodels.api as sm\n",
    "import pandas as pd\n",
    "import numpy as np\n",
    "import matplotlib.pyplot as plt\n",
    "\n",
    "from sklearn.metrics import accuracy_score\n",
    "from sklearn.ensemble import RandomForestRegressor"
   ]
  },
  {
   "cell_type": "code",
   "execution_count": null,
   "metadata": {
    "id": "7rYHEGwBEN_A"
   },
   "outputs": [],
   "source": [
    "data = pd.read_excel('/content/drive/MyDrive/Dataset.xlsx', sheet_name=['SS(Ave)', 'FE','AT(Ave)'])\n"
   ]
  },
  {
   "cell_type": "code",
   "execution_count": null,
   "metadata": {
    "id": "TEmlxbGXrgvK"
   },
   "outputs": [],
   "source": [
    "# In order to use this file, please upload Dataset.xlsx to your googledrive. Do not change the name\n",
    "dfss = pd.read_excel('/content/drive/MyDrive/Dataset.xlsx', sheet_name='SS(Ave)')\n",
    "dfss['Datetime'] = pd.to_datetime(dfss['Date'])\n",
    "dfss = dfss.set_index('Datetime')\n",
    "dfss = dfss.drop(['YYYY-MM','Date'], axis=1)\n",
    "\n",
    "dffe = pd.read_excel('/content/drive/MyDrive/Dataset.xlsx', sheet_name='FE')\n",
    "dffe['Datetime'] = pd.to_datetime(dffe['Date'])\n",
    "dffe = dffe.set_index('Datetime')\n",
    "dffe = dffe.drop(['YYYY-MM','Date'], axis=1)\n",
    "\n",
    "dfat = pd.read_excel('/content/drive/MyDrive/Dataset.xlsx', sheet_name='AT(Ave)')\n",
    "dfat['Datetime'] = pd.to_datetime(dfat['Date'])\n",
    "dfat = dfat.set_index('Datetime')\n",
    "dfat = dfat.drop(['YYYY-MM','Date'], axis=1)"
   ]
  },
  {
   "cell_type": "code",
   "execution_count": null,
   "metadata": {
    "colab": {
     "base_uri": "https://localhost:8080/"
    },
    "id": "adKkC8tirnig",
    "outputId": "a352a41e-0d13-4240-a2b0-d7998bcb2ce2"
   },
   "outputs": [
    {
     "name": "stdout",
     "output_type": "stream",
     "text": [
      "              BOD  NH3-N    TN   PH    MLSS  AT_Temp  OUTPUT BOD\n",
      "Datetime                                                        \n",
      "2013-01-03  120.0   31.0  45.0  8.1  2540.0   22.400         5.0\n",
      "2013-01-10   38.0   25.0  48.0  8.3  2250.0   22.150         5.0\n",
      "2013-01-17  160.0   24.0  42.0  7.5  1990.0   21.925         5.0\n",
      "2013-01-24  150.0   28.0  41.0  7.4  2190.0   22.975         5.0\n",
      "2013-01-31  130.0   26.0  41.0  7.2  2090.0   22.750         5.0\n",
      "...           ...    ...   ...  ...     ...      ...         ...\n",
      "2018-11-29  160.0   25.0  45.0  7.2  2890.0   24.425         5.0\n",
      "2018-12-06  170.0   28.0  50.0  7.1  3450.0   25.100         5.0\n",
      "2018-12-13  130.0   30.0  48.0  7.2  3060.0   21.800         5.0\n",
      "2018-12-20  180.0   30.0  48.0  7.2  2830.0   25.525         5.0\n",
      "2018-12-27  120.0   31.0  56.0  7.3  3430.0   23.150         5.0\n",
      "\n",
      "[351 rows x 7 columns]\n"
     ]
    },
    {
     "name": "stderr",
     "output_type": "stream",
     "text": [
      "/usr/local/lib/python3.7/dist-packages/pandas/core/frame.py:4327: SettingWithCopyWarning: \n",
      "A value is trying to be set on a copy of a slice from a DataFrame\n",
      "\n",
      "See the caveats in the documentation: https://pandas.pydata.org/pandas-docs/stable/user_guide/indexing.html#returning-a-view-versus-a-copy\n",
      "  downcast=downcast,\n"
     ]
    }
   ],
   "source": [
    "dfss_bod = dfss[['BOD', 'NH3-N', 'TN','PH']] #SSE dataset containing BOD, NH3, and TN values\n",
    "dfat_bod=dfat[['MLSS','AT_Temp']]\n",
    "dffe_bod = dffe[['BOD']] #FE dataset containing NH3 values\n",
    "dffe_bod.columns = ['OUTPUT BOD']\n",
    "\n",
    "dfss_bodMA = dfss_bod.rolling(5, min_periods=1).mean()\n",
    "dfat_bodMA=dfat_bod.rolling(5, min_periods=1).mean()\n",
    "#dffe_bodMA=dffe_bod.rolling(5, min_periods=1).mean()\n",
    "\n",
    "dfss_bod.fillna(dfss_bodMA,inplace=True)\n",
    "dfat_bod.fillna(dfat_bodMA,inplace=True)\n",
    "#dffe_bod.fillna(dffe_bodMA,inplace=True)\n",
    "\n",
    "bod_data = pd.concat([dfss_bod,dfat_bod,dffe_bod], axis=1)\n",
    "\n",
    "#bod_data.drop(bod_data.loc[bod_data['OUTPUT BOD'] < 5.00000001 ].index, inplace=True)\n",
    "\n",
    "bod_data = bod_data.dropna()\n",
    "print(bod_data)\n",
    "\n"
   ]
  },
  {
   "cell_type": "code",
   "execution_count": null,
   "metadata": {
    "colab": {
     "base_uri": "https://localhost:8080/"
    },
    "id": "WDUcGe9TvnvU",
    "outputId": "be96936a-c13d-44ca-e247-4e1752983b3c"
   },
   "outputs": [
    {
     "name": "stdout",
     "output_type": "stream",
     "text": [
      "(71,)\n",
      "Mean Absolute Error: OUTPUT BOD    0.44\n",
      "dtype: float64 mg/L.\n",
      "Accuracy: OUTPUT BOD    93.78\n",
      "dtype: float64 %.\n"
     ]
    },
    {
     "name": "stderr",
     "output_type": "stream",
     "text": [
      "/usr/local/lib/python3.7/dist-packages/ipykernel_launcher.py:13: DataConversionWarning: A column-vector y was passed when a 1d array was expected. Please change the shape of y to (n_samples,), for example using ravel().\n",
      "  del sys.path[0]\n"
     ]
    }
   ],
   "source": [
    "from sklearn.model_selection import train_test_split\n",
    "\n",
    "\n",
    "features= bod_data[['BOD', 'NH3-N', 'TN','MLSS','PH','AT_Temp']]\n",
    "labels= bod_data[['OUTPUT BOD']]\n",
    "\n",
    "\n",
    "# Split the data into training and testing sets\n",
    "train_features, test_features, train_labels, test_labels = train_test_split(features, labels, test_size = 0.20, random_state = 42)\n",
    "\n",
    "rf = RandomForestRegressor(n_estimators = 10, random_state = 42)\n",
    "\n",
    "rf.fit(train_features, train_labels)\n",
    "\n",
    "# Use the forest's predict method on the test data\n",
    "predictions = rf.predict(test_features)\n",
    "print (predictions.shape)\n",
    "predictions=predictions.reshape(71,1)\n",
    "\n",
    "# Calculate the absolute errors\n",
    "errors = np.abs(predictions - test_labels)\n",
    "\n",
    "# Print out the mean absolute error (mae)\n",
    "\n",
    "print('Mean Absolute Error:', round(np.mean(errors), 2), 'mg/L.')\n",
    "\n",
    "# Calculate mean absolute percentage error (MAPE)\n",
    "mape = 100 * (errors / test_labels)\n",
    "\n",
    "# Calculate and display accuracy\n",
    "accuracy = 100 - np.mean(mape)\n",
    "print('Accuracy:', round(accuracy, 2), '%.')"
   ]
  },
  {
   "cell_type": "code",
   "execution_count": null,
   "metadata": {
    "colab": {
     "base_uri": "https://localhost:8080/"
    },
    "id": "IV61obCmvtgT",
    "outputId": "8b00cb1d-542e-4d5b-b609-e6f995ec8b07"
   },
   "outputs": [
    {
     "name": "stderr",
     "output_type": "stream",
     "text": [
      "/usr/local/lib/python3.7/dist-packages/ipykernel_launcher.py:20: DataConversionWarning: A column-vector y was passed when a 1d array was expected. Please change the shape of y to (n_samples,), for example using ravel().\n"
     ]
    }
   ],
   "source": [
    "# Import tools needed for visualization\n",
    "feature_list = list(features.columns)\n",
    "from sklearn.tree import export_graphviz\n",
    "import pydot\n",
    "# Pull out one tree from the forest\n",
    "tree = rf.estimators_[5]\n",
    "# Import tools needed for visualization\n",
    "from sklearn.tree import export_graphviz\n",
    "import pydot\n",
    "# Pull out one tree from the forest\n",
    "tree = rf.estimators_[5]\n",
    "# Export the image to a dot file\n",
    "export_graphviz(tree, out_file = 'BOD_tree.dot', feature_names = feature_list, rounded = True, precision = 1)\n",
    "# Use dot file to create a graph\n",
    "(graph, ) = pydot.graph_from_dot_file('BOD_tree.dot')\n",
    "# Write graph to a png file\n",
    "graph.write_png('BOD_tree.png')\n",
    "# Limit depth of tree to 3 levels\n",
    "rf_small = RandomForestRegressor(n_estimators=10, max_depth = 3)\n",
    "rf_small.fit(train_features, train_labels)\n",
    "# Extract the small tree\n",
    "tree_small = rf_small.estimators_[5]\n",
    "# Save the tree as a png image\n",
    "export_graphviz(tree_small, out_file = 'small_tree.dot', feature_names = feature_list, rounded = True, precision = 1)\n",
    "(graph, ) = pydot.graph_from_dot_file('small_tree.dot')\n",
    "graph.write_png('small_tree.png')"
   ]
  },
  {
   "cell_type": "code",
   "execution_count": null,
   "metadata": {
    "colab": {
     "base_uri": "https://localhost:8080/",
     "height": 474
    },
    "id": "uG6EO2Axvujm",
    "outputId": "4b5b34a5-5b31-43a5-e856-d8faa24446b8"
   },
   "outputs": [
    {
     "name": "stdout",
     "output_type": "stream",
     "text": [
      "Variable: MLSS                 Importance: 0.24\n",
      "Variable: AT_Temp              Importance: 0.22\n",
      "Variable: PH                   Importance: 0.19\n",
      "Variable: BOD                  Importance: 0.12\n",
      "Variable: NH3-N                Importance: 0.12\n",
      "Variable: TN                   Importance: 0.11\n"
     ]
    },
    {
     "data": {
      "image/png": "[encoded data removed]",
      "text/plain": [
       "<Figure size 432x288 with 1 Axes>"
      ]
     },
     "metadata": {
      "tags": []
     },
     "output_type": "display_data"
    }
   ],
   "source": [
    "# Get numerical feature importances\n",
    "importances = list(rf.feature_importances_)\n",
    "# List of tuples with variable and importance\n",
    "feature_importances = [(feature, round(importance, 2)) for feature, importance in zip(feature_list, importances)]\n",
    "# Sort the feature importances by most important first\n",
    "feature_importances = sorted(feature_importances, key = lambda x: x[1], reverse = True)\n",
    "# Print out the feature and importances \n",
    "[print('Variable: {:20} Importance: {}'.format(*pair)) for pair in feature_importances];\n",
    "\n",
    "# Import matplotlib for plotting and use magic command for Jupyter Notebooks\n",
    "import matplotlib.pyplot as plt\n",
    "%matplotlib inline\n",
    "# Set the style\n",
    "plt.style.use('fivethirtyeight')\n",
    "# list of x locations for plotting\n",
    "x_values = list(range(len(importances)))\n",
    "# Make a bar chart\n",
    "plt.bar(x_values, importances, orientation = 'vertical')\n",
    "# Tick labels for x axis\n",
    "plt.xticks(x_values, feature_list, rotation='vertical')\n",
    "# Axis labels and title\n",
    "plt.ylabel('Importance'); plt.xlabel('Variable'); plt.title('Variable Importances');\n",
    "plt.show()"
   ]
  },
  {
   "cell_type": "code",
   "execution_count": null,
   "metadata": {
    "colab": {
     "base_uri": "https://localhost:8080/",
     "height": 348
    },
    "id": "D2CucCCewjBb",
    "outputId": "6ebd2ea1-c9a0-4fed-bb5d-8b1ee054c063"
   },
   "outputs": [
    {
     "data": {
      "image/png": "[encoded data removed]",
      "text/plain": [
       "<Figure size 432x288 with 1 Axes>"
      ]
     },
     "metadata": {
      "tags": []
     },
     "output_type": "display_data"
    }
   ],
   "source": [
    "# Use datetime for creating date objects for plotting\n",
    "import datetime\n",
    "\n",
    "# Dataframe with true values and dates\n",
    "true_data = pd.DataFrame(labels)\n",
    "\n",
    "\n",
    "# Dataframe with predictions and dates\n",
    "predictions_data = pd.DataFrame(predictions)\n",
    "#print(predictions_data)\n",
    "#predictions_data = predictions_data.reset_index()\n",
    "\n",
    "#predictions_data.columns = ['prediction', 'date']\n",
    "# predictions_data.date = pd.to_datetime(predictions_data.date)\n",
    "\n",
    "# Plot the actual values\n",
    "plt.plot(true_data.index, true_data['OUTPUT BOD'], 'b-', label = 'actual')\n",
    "# Plot the predicted values\n",
    "plt.plot(test_features.index, predictions_data[0], 'ro', label = 'prediction')\n",
    "plt.xticks(rotation = '60'); \n",
    "plt.legend()\n",
    "# Graph labels\n",
    "plt.xlabel('Date'); plt.ylabel('BOD (mg/L)'); plt.title('Actual and Predicted Values');\n",
    "plt.show()"
   ]
  },
  {
   "cell_type": "code",
   "execution_count": null,
   "metadata": {
    "colab": {
     "base_uri": "https://localhost:8080/"
    },
    "id": "IbtjJZZF_MHn",
    "outputId": "41eb6c64-fb2f-4e33-fdd5-a0086c850a8c"
   },
   "outputs": [
    {
     "name": "stderr",
     "output_type": "stream",
     "text": [
      "/usr/local/lib/python3.7/dist-packages/pandas/core/frame.py:4327: SettingWithCopyWarning: \n",
      "A value is trying to be set on a copy of a slice from a DataFrame\n",
      "\n",
      "See the caveats in the documentation: https://pandas.pydata.org/pandas-docs/stable/user_guide/indexing.html#returning-a-view-versus-a-copy\n",
      "  downcast=downcast,\n"
     ]
    }
   ],
   "source": [
    "dfss_tn = dfss[['BOD', 'NH3-N', 'TN','PH']] #SSE dataset containing BOD, NH3, and TN values\n",
    "dfat_tn=dfat[['MLSS','AT_Temp']]\n",
    "dffe_tn = dffe[['TN']] #FE dataset containing NH3 values\n",
    "\n",
    "\n",
    "dfss_tnMA = dfss_tn.rolling(5, min_periods=1).mean()\n",
    "dfat_tnMA=dfat_tn.rolling(5, min_periods=1).mean()\n",
    "dffe_tnMA=dffe_tn.rolling(5, min_periods=1).mean()\n",
    "\n",
    "dfss_tn.fillna(dfss_tnMA,inplace=True)\n",
    "dfat_tn.fillna(dfat_tnMA,inplace=True)\n",
    "dffe_tn.fillna(dffe_tnMA,inplace=True)\n",
    "\n",
    "dffe_tn.columns = ['OUTPUT TN']\n",
    "tn_data = pd.concat([dfss_tn,dfat_tn,dffe_tn], axis=1)\n",
    "\n",
    "tn_data = tn_data.dropna()"
   ]
  },
  {
   "cell_type": "code",
   "execution_count": null,
   "metadata": {
    "colab": {
     "base_uri": "https://localhost:8080/"
    },
    "id": "o7LRIhuMU4Kz",
    "outputId": "aae26028-2ee6-4c11-f412-c1b0dc7f5bb5"
   },
   "outputs": [
    {
     "name": "stderr",
     "output_type": "stream",
     "text": [
      "/usr/local/lib/python3.7/dist-packages/ipykernel_launcher.py:13: DataConversionWarning: A column-vector y was passed when a 1d array was expected. Please change the shape of y to (n_samples,), for example using ravel().\n",
      "  del sys.path[0]\n"
     ]
    },
    {
     "name": "stdout",
     "output_type": "stream",
     "text": [
      "(307,)\n",
      "Mean Absolute Error: OUTPUT TN    0.96\n",
      "dtype: float64 mg/L.\n",
      "Accuracy: OUTPUT TN    86.43\n",
      "dtype: float64 %.\n"
     ]
    }
   ],
   "source": [
    "from sklearn.model_selection import train_test_split\n",
    "\n",
    "\n",
    "features= tn_data[['BOD', 'NH3-N', 'TN','MLSS','PH','AT_Temp']]\n",
    "labels= tn_data[['OUTPUT TN']]\n",
    "\n",
    "\n",
    "# Split the data into training and testing sets\n",
    "train_features, test_features, train_labels, test_labels = train_test_split(features, labels, test_size = 0.20, random_state = 42)\n",
    "\n",
    "rf = RandomForestRegressor(n_estimators = 100, random_state = 42)\n",
    "\n",
    "rf.fit(train_features, train_labels)\n",
    "\n",
    "# Use the forest's predict method on the test data\n",
    "predictions = rf.predict(test_features)\n",
    "print (predictions.shape)\n",
    "predictions=predictions.reshape(307,1)\n",
    "\n",
    "# Calculate the absolute errors\n",
    "errors = np.abs(predictions - test_labels)\n",
    "\n",
    "# Print out the mean absolute error (mae)\n",
    "\n",
    "print('Mean Absolute Error:', round(np.mean(errors), 2), 'mg/L.')\n",
    "\n",
    "# Calculate mean absolute percentage error (MAPE)\n",
    "mape = 100 * (errors / test_labels)\n",
    "\n",
    "# Calculate and display accuracy\n",
    "accuracy = 100 - np.mean(mape)\n",
    "print('Accuracy:', round(accuracy, 2), '%.')"
   ]
  },
  {
   "cell_type": "code",
   "execution_count": null,
   "metadata": {
    "colab": {
     "base_uri": "https://localhost:8080/"
    },
    "id": "kSAHEMe6VQ9O",
    "outputId": "4912c4b6-f2fd-4e28-b194-2572c81a525b"
   },
   "outputs": [
    {
     "name": "stderr",
     "output_type": "stream",
     "text": [
      "/usr/local/lib/python3.7/dist-packages/ipykernel_launcher.py:20: DataConversionWarning: A column-vector y was passed when a 1d array was expected. Please change the shape of y to (n_samples,), for example using ravel().\n"
     ]
    }
   ],
   "source": [
    "# Import tools needed for visualization\n",
    "feature_list = list(features.columns)\n",
    "from sklearn.tree import export_graphviz\n",
    "import pydot\n",
    "# Pull out one tree from the forest\n",
    "tree = rf.estimators_[5]\n",
    "# Import tools needed for visualization\n",
    "from sklearn.tree import export_graphviz\n",
    "import pydot\n",
    "# Pull out one tree from the forest\n",
    "tree = rf.estimators_[5]\n",
    "# Export the image to a dot file\n",
    "export_graphviz(tree, out_file = 'TN_tree.dot', feature_names = feature_list, rounded = True, precision = 1)\n",
    "# Use dot file to create a graph\n",
    "(graph, ) = pydot.graph_from_dot_file('TN_tree.dot')\n",
    "# Write graph to a png file\n",
    "graph.write_png('TN_tree.png')\n",
    "# Limit depth of tree to 3 levels\n",
    "rf_small = RandomForestRegressor(n_estimators=10, max_depth = 3)\n",
    "rf_small.fit(train_features, train_labels)\n",
    "# Extract the small tree\n",
    "tree_small = rf_small.estimators_[5]\n",
    "# Save the tree as a png image\n",
    "export_graphviz(tree_small, out_file = 'small_tree.dot', feature_names = feature_list, rounded = True, precision = 1)\n",
    "(graph, ) = pydot.graph_from_dot_file('small_tree.dot')\n",
    "graph.write_png('small_tree.png')"
   ]
  },
  {
   "cell_type": "code",
   "execution_count": null,
   "metadata": {
    "colab": {
     "base_uri": "https://localhost:8080/",
     "height": 474
    },
    "id": "OtauX6eXgFKF",
    "outputId": "d4368d1b-1a70-4851-c3ef-e74510df5927"
   },
   "outputs": [
    {
     "name": "stdout",
     "output_type": "stream",
     "text": [
      "Variable: MLSS                 Importance: 0.27\n",
      "Variable: AT_Temp              Importance: 0.19\n",
      "Variable: TN                   Importance: 0.17\n",
      "Variable: BOD                  Importance: 0.13\n",
      "Variable: PH                   Importance: 0.13\n",
      "Variable: NH3-N                Importance: 0.11\n"
     ]
    },
    {
     "data": {
      "image/png": "[encoded data removed]",
      "text/plain": [
       "<Figure size 432x288 with 1 Axes>"
      ]
     },
     "metadata": {
      "tags": []
     },
     "output_type": "display_data"
    }
   ],
   "source": [
    "# Get numerical feature importances\n",
    "importances = list(rf.feature_importances_)\n",
    "# List of tuples with variable and importance\n",
    "feature_importances = [(feature, round(importance, 2)) for feature, importance in zip(feature_list, importances)]\n",
    "# Sort the feature importances by most important first\n",
    "feature_importances = sorted(feature_importances, key = lambda x: x[1], reverse = True)\n",
    "# Print out the feature and importances \n",
    "[print('Variable: {:20} Importance: {}'.format(*pair)) for pair in feature_importances];\n",
    "\n",
    "# Import matplotlib for plotting and use magic command for Jupyter Notebooks\n",
    "import matplotlib.pyplot as plt\n",
    "%matplotlib inline\n",
    "# Set the style\n",
    "plt.style.use('fivethirtyeight')\n",
    "# list of x locations for plotting\n",
    "x_values = list(range(len(importances)))\n",
    "# Make a bar chart\n",
    "plt.bar(x_values, importances, orientation = 'vertical')\n",
    "# Tick labels for x axis\n",
    "plt.xticks(x_values, feature_list, rotation='vertical')\n",
    "# Axis labels and title\n",
    "plt.ylabel('Importance'); plt.xlabel('Variable'); plt.title('Variable Importances');\n",
    "plt.show()"
   ]
  },
  {
   "cell_type": "code",
   "execution_count": null,
   "metadata": {
    "colab": {
     "base_uri": "https://localhost:8080/",
     "height": 348
    },
    "id": "gfxb4EsueTwN",
    "outputId": "83014de4-44c5-4640-cf17-7e1af5446788"
   },
   "outputs": [
    {
     "data": {
      "image/png": "[encoded data removed]",
      "text/plain": [
       "<Figure size 432x288 with 1 Axes>"
      ]
     },
     "metadata": {
      "tags": []
     },
     "output_type": "display_data"
    }
   ],
   "source": [
    "# Use datetime for creating date objects for plotting\n",
    "import datetime\n",
    "\n",
    "# Dataframe with true values and dates\n",
    "true_data = pd.DataFrame(labels)\n",
    "\n",
    "\n",
    "# Dataframe with predictions and dates\n",
    "predictions_data = pd.DataFrame(predictions)\n",
    "#print(predictions_data)\n",
    "#predictions_data = predictions_data.reset_index()\n",
    "\n",
    "#predictions_data.columns = ['prediction', 'date']\n",
    "# predictions_data.date = pd.to_datetime(predictions_data.date)\n",
    "\n",
    "# Plot the actual values\n",
    "plt.plot(true_data.index, true_data['OUTPUT TN'], 'b-', label = 'actual')\n",
    "# Plot the predicted values\n",
    "plt.plot(test_features.index, predictions_data[0], 'ro', label = 'prediction')\n",
    "plt.xticks(rotation = '60'); \n",
    "plt.legend()\n",
    "# Graph labels\n",
    "plt.xlabel('Date'); plt.ylabel('BOD (mg/L)'); plt.title('Actual and Predicted Values');\n",
    "plt.show()"
   ]
  },
  {
   "cell_type": "code",
   "execution_count": null,
   "metadata": {
    "colab": {
     "base_uri": "https://localhost:8080/",
     "height": 337
    },
    "id": "9RprfkijeVu_",
    "outputId": "09c7fbca-57da-4797-b507-f35231bf80f6"
   },
   "outputs": [
    {
     "name": "stderr",
     "output_type": "stream",
     "text": [
      "/usr/local/lib/python3.7/dist-packages/pandas/core/frame.py:4327: SettingWithCopyWarning: \n",
      "A value is trying to be set on a copy of a slice from a DataFrame\n",
      "\n",
      "See the caveats in the documentation: https://pandas.pydata.org/pandas-docs/stable/user_guide/indexing.html#returning-a-view-versus-a-copy\n",
      "  downcast=downcast,\n"
     ]
    },
    {
     "ename": "NameError",
     "evalue": "ignored",
     "output_type": "error",
     "traceback": [
      "\u001b[0;31m---------------------------------------------------------------------------\u001b[0m",
      "\u001b[0;31mNameError\u001b[0m                                 Traceback (most recent call last)",
      "\u001b[0;32m<ipython-input-14-bc099a6bfed8>\u001b[0m in \u001b[0;36m<module>\u001b[0;34m()\u001b[0m\n\u001b[1;32m     13\u001b[0m \u001b[0mdffe_nh3\u001b[0m\u001b[0;34m.\u001b[0m\u001b[0mcolumns\u001b[0m \u001b[0;34m=\u001b[0m \u001b[0;34m[\u001b[0m\u001b[0;34m'OUTPUT NH3'\u001b[0m\u001b[0;34m]\u001b[0m\u001b[0;34m\u001b[0m\u001b[0;34m\u001b[0m\u001b[0m\n\u001b[1;32m     14\u001b[0m \u001b[0;34m\u001b[0m\u001b[0m\n\u001b[0;32m---> 15\u001b[0;31m \u001b[0mnh3_data\u001b[0m\u001b[0;34m.\u001b[0m\u001b[0mdrop\u001b[0m\u001b[0;34m(\u001b[0m\u001b[0mnh3_data\u001b[0m\u001b[0;34m.\u001b[0m\u001b[0mloc\u001b[0m\u001b[0;34m[\u001b[0m\u001b[0mnh3_data\u001b[0m\u001b[0;34m[\u001b[0m\u001b[0;34m'OUTPUT NH3'\u001b[0m\u001b[0;34m]\u001b[0m\u001b[0;34m==\u001b[0m\u001b[0;36m0.5\u001b[0m\u001b[0;34m]\u001b[0m\u001b[0;34m.\u001b[0m\u001b[0mindex\u001b[0m\u001b[0;34m,\u001b[0m \u001b[0minplace\u001b[0m\u001b[0;34m=\u001b[0m\u001b[0;32mTrue\u001b[0m\u001b[0;34m)\u001b[0m\u001b[0;34m\u001b[0m\u001b[0;34m\u001b[0m\u001b[0m\n\u001b[0m\u001b[1;32m     16\u001b[0m \u001b[0mnh3_data\u001b[0m \u001b[0;34m=\u001b[0m \u001b[0mnh3_data\u001b[0m\u001b[0;34m[\u001b[0m\u001b[0mnh3_data\u001b[0m\u001b[0;34m[\u001b[0m\u001b[0;34m'OUTPUT NH3'\u001b[0m\u001b[0;34m]\u001b[0m \u001b[0;34m>\u001b[0m \u001b[0;36m0.50\u001b[0m\u001b[0;34m]\u001b[0m\u001b[0;34m\u001b[0m\u001b[0;34m\u001b[0m\u001b[0m\n\u001b[1;32m     17\u001b[0m \u001b[0mnh3_data\u001b[0m \u001b[0;34m=\u001b[0m \u001b[0mnh3_data\u001b[0m\u001b[0;34m[\u001b[0m\u001b[0mnh3_data\u001b[0m\u001b[0;34m[\u001b[0m\u001b[0;34m'OUTPUT NH3'\u001b[0m\u001b[0;34m]\u001b[0m \u001b[0;34m>\u001b[0m \u001b[0;36m0.5\u001b[0m\u001b[0;34m]\u001b[0m\u001b[0;34m\u001b[0m\u001b[0;34m\u001b[0m\u001b[0m\n",
      "\u001b[0;31mNameError\u001b[0m: name 'nh3_data' is not defined"
     ]
    }
   ],
   "source": [
    "dfss_nh3 = dfss[['BOD', 'NH3-N', 'TN','PH']] #SSE dataset containing BOD, NH3, and TN values\n",
    "dfat_nh3=dfat[['MLSS','AT_Temp']]\n",
    "dffe_nh3 = dffe[['NH3-N']] #FE dataset containing NH3 values\n",
    "\n",
    "dfss_nh3MA = dfss_nh3.rolling(5, min_periods=1).mean()\n",
    "dfat_nh3MA=dfat_nh3.rolling(5, min_periods=1).mean()\n",
    "dffe_nh3MA=dffe_nh3.rolling(5, min_periods=1).mean()\n",
    "\n",
    "dfss_nh3.fillna(dfss_nh3MA,inplace=True)\n",
    "dfat_nh3.fillna(dfat_nh3MA,inplace=True)\n",
    "dffe_nh3.fillna(dffe_nh3MA,inplace=True)\n",
    "\n",
    "dffe_nh3.columns = ['OUTPUT NH3']\n",
    "\n",
    "nh3_data.drop(nh3_data.loc[nh3_data['OUTPUT NH3']==0.5].index, inplace=True)\n",
    "nh3_data = nh3_data[nh3_data['OUTPUT NH3'] > 0.50]\n",
    "nh3_data = nh3_data[nh3_data['OUTPUT NH3'] > 0.5]\n",
    "nh3_data = pd.concat([dfss_nh3,dfat_nh3,dffe_nh3], axis=1)\n",
    "\n",
    "nh3_data.drop(nh3_data.loc[nh3_data['OUTPUT NH3'] <0.5000001 ].index, inplace=True)\n",
    "nh3_data = nh3_data.dropna()\n",
    "print (nh3_data)\n",
    "\n",
    "nh3_data.plot(y='OUTPUT NH3', use_index=True)\n",
    "\n",
    "# plt.plot(nh3_data[0],nh3_data['OUTPUT NH3'])\n",
    "\n",
    "#from pandas import ExcelWriter\n",
    "\n",
    "#writer = ExcelWriter('PythonExport.xlsx')\n",
    "#nh3_data.to_excel(writer,'Sheet5')\n",
    "#writer.save()\n"
   ]
  },
  {
   "cell_type": "code",
   "execution_count": null,
   "metadata": {
    "id": "RpgXU6BcgNPL"
   },
   "outputs": [],
   "source": [
    "from sklearn.model_selection import train_test_split\n",
    "\n",
    "\n",
    "features= nh3_data[['BOD', 'NH3-N', 'TN','MLSS','PH','AT_Temp']]\n",
    "labels= nh3_data[['OUTPUT NH3']]\n",
    "\n",
    "# Split the data into training and testing sets\n",
    "train_features, test_features, train_labels, test_labels = train_test_split(features, labels, test_size = 0.20, random_state = 42)\n",
    "\n",
    "rf = RandomForestRegressor(n_estimators = 10, random_state = 42)\n",
    "\n",
    "rf.fit(train_features, train_labels)\n",
    "\n",
    "# Use the forest's predict method on the test data\n",
    "predictions = rf.predict(test_features)\n",
    "print (predictions.shape)\n",
    "predictions=predictions.reshape(69,1)\n",
    "\n",
    "# Calculate the absolute errors\n",
    "errors = np.abs(predictions - test_labels)\n",
    "\n",
    "# Print out the mean absolute error (mae)\n",
    "\n",
    "print('Mean Absolute Error:', round(np.mean(errors), 2), 'mg/L.')\n",
    "\n",
    "# Calculate mean absolute percentage error (MAPE)\n",
    "mape = 100 * (errors / test_labels)\n",
    "\n",
    "# Calculate and display accuracy\n",
    "accuracy = 100 - np.mean(mape)\n",
    "print('Accuracy:', round(accuracy, 2), '%.')"
   ]
  },
  {
   "cell_type": "code",
   "execution_count": null,
   "metadata": {
    "id": "6NWe5ZCzgP6d"
   },
   "outputs": [],
   "source": [
    "# Import tools needed for visualization\n",
    "feature_list = list(features.columns)\n",
    "from sklearn.tree import export_graphviz\n",
    "import pydot\n",
    "# Pull out one tree from the forest\n",
    "tree = rf.estimators_[5]\n",
    "# Import tools needed for visualization\n",
    "from sklearn.tree import export_graphviz\n",
    "import pydot\n",
    "# Pull out one tree from the forest\n",
    "tree = rf.estimators_[5]\n",
    "# Export the image to a dot file\n",
    "export_graphviz(tree, out_file = 'NH3_tree.dot', feature_names = feature_list, rounded = True, precision = 1)\n",
    "# Use dot file to create a graph\n",
    "(graph, ) = pydot.graph_from_dot_file('NH3_tree.dot')\n",
    "# Write graph to a png file\n",
    "graph.write_png('NH3_tree.png')\n",
    "# Limit depth of tree to 3 levels\n",
    "rf_small = RandomForestRegressor(n_estimators=10, max_depth = 3)\n",
    "rf_small.fit(train_features, train_labels)\n",
    "# Extract the small tree\n",
    "tree_small = rf_small.estimators_[5]\n",
    "# Save the tree as a png image\n",
    "export_graphviz(tree_small, out_file = 'small_tree.dot', feature_names = feature_list, rounded = True, precision = 1)\n",
    "(graph, ) = pydot.graph_from_dot_file('small_tree.dot')\n",
    "graph.write_png('small_tree.png')"
   ]
  },
  {
   "cell_type": "code",
   "execution_count": null,
   "metadata": {
    "id": "TFBzo4vYgcQI"
   },
   "outputs": [],
   "source": [
    "# Get numerical feature importances\n",
    "importances = list(rf.feature_importances_)\n",
    "# List of tuples with variable and importance\n",
    "feature_importances = [(feature, round(importance, 2)) for feature, importance in zip(feature_list, importances)]\n",
    "# Sort the feature importances by most important first\n",
    "feature_importances = sorted(feature_importances, key = lambda x: x[1], reverse = True)\n",
    "# Print out the feature and importances \n",
    "[print('Variable: {:20} Importance: {}'.format(*pair)) for pair in feature_importances];\n",
    "\n",
    "# Import matplotlib for plotting and use magic command for Jupyter Notebooks\n",
    "import matplotlib.pyplot as plt\n",
    "%matplotlib inline\n",
    "# Set the style\n",
    "plt.style.use('fivethirtyeight')\n",
    "# list of x locations for plotting\n",
    "x_values = list(range(len(importances)))\n",
    "# Make a bar chart\n",
    "plt.bar(x_values, importances, orientation = 'vertical')\n",
    "# Tick labels for x axis\n",
    "plt.xticks(x_values, feature_list, rotation='vertical')\n",
    "# Axis labels and title\n",
    "plt.ylabel('Importance'); plt.xlabel('Variable'); plt.title('Variable Importances');\n",
    "plt.show()"
   ]
  },
  {
   "cell_type": "code",
   "execution_count": null,
   "metadata": {
    "id": "7uNSGOPRgfUL"
   },
   "outputs": [],
   "source": [
    "# Use datetime for creating date objects for plotting\n",
    "import datetime\n",
    "\n",
    "# Dataframe with true values and dates\n",
    "true_data = pd.DataFrame(labels)\n",
    "\n",
    "\n",
    "# Dataframe with predictions and dates\n",
    "predictions_data = pd.DataFrame(predictions)\n",
    "#print(predictions_data)\n",
    "#predictions_data = predictions_data.reset_index()\n",
    "\n",
    "#predictions_data.columns = ['prediction', 'date']\n",
    "# predictions_data.date = pd.to_datetime(predictions_data.date)\n",
    "\n",
    "# Plot the actual values\n",
    "plt.plot(true_data.index, true_data['OUTPUT NH3'], 'b-', label = 'actual')\n",
    "# Plot the predicted values\n",
    "plt.plot(test_features.index, predictions_data[0], 'ro', label = 'prediction')\n",
    "plt.xticks(rotation = '60'); \n",
    "plt.legend()\n",
    "# Graph labels\n",
    "plt.xlabel('Date'); plt.ylabel('BOD (mg/L)'); plt.title('Actual and Predicted Values');\n",
    "plt.show()"
   ]
  }
 ],
 "metadata": {
  "colab": {
   "authorship_tag": "ABX9TyN02NJgbN//dqXORVer2NnQ",
   "collapsed_sections": [],
   "include_colab_link": true,
   "name": "Running Average Models.ipynb",
   "provenance": []
  },
  "kernelspec": {
   "display_name": "Python 3",
   "language": "python",
   "name": "python3"
  },
  "language_info": {
   "codemirror_mode": {
    "name": "ipython",
    "version": 3
   },
   "file_extension": ".py",
   "mimetype": "text/x-python",
   "name": "python",
   "nbconvert_exporter": "python",
   "pygments_lexer": "ipython3",
   "version": "3.9.2"
  }
 },
 "nbformat": 4,
 "nbformat_minor": 1
}
